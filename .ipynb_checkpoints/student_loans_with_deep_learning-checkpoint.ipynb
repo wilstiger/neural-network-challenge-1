{
 "cells": [
  {
   "cell_type": "markdown",
   "metadata": {
    "id": "T7ZNhGcW6q6r"
   },
   "source": [
    "# Student Loan Risk with Deep Learning"
   ]
  },
  {
   "cell_type": "code",
   "execution_count": 5,
   "metadata": {
    "id": "0otrXpJc6q6u"
   },
   "outputs": [],
   "source": [
    "# Imports\n",
    "import pandas as pd\n",
    "import tensorflow as tf\n",
    "from tensorflow.keras.layers import Dense\n",
    "from tensorflow.keras.models import Sequential\n",
    "from sklearn.model_selection import train_test_split\n",
    "from sklearn.preprocessing import StandardScaler\n",
    "from sklearn.metrics import classification_report\n",
    "import numpy as np\n",
    "import matplotlib.pyplot as plt\n"
   ]
  },
  {
   "cell_type": "markdown",
   "metadata": {
    "id": "OpV4Y-3Z6q6w"
   },
   "source": [
    "---\n",
    "\n",
    "## Prepare the data to be used on a neural network model"
   ]
  },
  {
   "cell_type": "markdown",
   "metadata": {
    "id": "TUuSzp2l6q6w"
   },
   "source": [
    "### Step 1: Read the `student-loans.csv` file into a Pandas DataFrame. Review the DataFrame, looking for columns that could eventually define your features and target variables.   "
   ]
  },
  {
   "cell_type": "code",
   "execution_count": 11,
   "metadata": {
    "colab": {
     "base_uri": "https://localhost:8080/",
     "height": 226
    },
    "id": "G65km1KD6q6x",
    "outputId": "93d12d8d-c415-4017-8452-5b4966e4dde5"
   },
   "outputs": [
    {
     "name": "stdout",
     "output_type": "stream",
     "text": [
      "<class 'pandas.core.frame.DataFrame'>\n",
      "RangeIndex: 1599 entries, 0 to 1598\n",
      "Data columns (total 12 columns):\n",
      " #   Column                  Non-Null Count  Dtype  \n",
      "---  ------                  --------------  -----  \n",
      " 0   payment_history         1599 non-null   float64\n",
      " 1   location_parameter      1599 non-null   float64\n",
      " 2   stem_degree_score       1599 non-null   float64\n",
      " 3   gpa_ranking             1599 non-null   float64\n",
      " 4   alumni_success          1599 non-null   float64\n",
      " 5   study_major_code        1599 non-null   float64\n",
      " 6   time_to_completion      1599 non-null   float64\n",
      " 7   finance_workshop_score  1599 non-null   float64\n",
      " 8   cohort_ranking          1599 non-null   float64\n",
      " 9   total_loan_score        1599 non-null   float64\n",
      " 10  financial_aid_score     1599 non-null   float64\n",
      " 11  credit_ranking          1599 non-null   int64  \n",
      "dtypes: float64(11), int64(1)\n",
      "memory usage: 150.0 KB\n",
      "None\n",
      "       payment_history  location_parameter  stem_degree_score  gpa_ranking  \\\n",
      "count      1599.000000         1599.000000        1599.000000  1599.000000   \n",
      "mean          8.319637            0.527821           0.270976     2.538806   \n",
      "std           1.741096            0.179060           0.194801     1.409928   \n",
      "min           4.600000            0.120000           0.000000     0.900000   \n",
      "25%           7.100000            0.390000           0.090000     1.900000   \n",
      "50%           7.900000            0.520000           0.260000     2.200000   \n",
      "75%           9.200000            0.640000           0.420000     2.600000   \n",
      "max          15.900000            1.580000           1.000000    15.500000   \n",
      "\n",
      "       alumni_success  study_major_code  time_to_completion  \\\n",
      "count     1599.000000       1599.000000         1599.000000   \n",
      "mean         0.087467         15.874922           46.467792   \n",
      "std          0.047065         10.460157           32.895324   \n",
      "min          0.012000          1.000000            6.000000   \n",
      "25%          0.070000          7.000000           22.000000   \n",
      "50%          0.079000         14.000000           38.000000   \n",
      "75%          0.090000         21.000000           62.000000   \n",
      "max          0.611000         72.000000          289.000000   \n",
      "\n",
      "       finance_workshop_score  cohort_ranking  total_loan_score  \\\n",
      "count             1599.000000     1599.000000       1599.000000   \n",
      "mean                 0.996747        3.311113          0.658149   \n",
      "std                  0.001887        0.154386          0.169507   \n",
      "min                  0.990070        2.740000          0.330000   \n",
      "25%                  0.995600        3.210000          0.550000   \n",
      "50%                  0.996750        3.310000          0.620000   \n",
      "75%                  0.997835        3.400000          0.730000   \n",
      "max                  1.003690        4.010000          2.000000   \n",
      "\n",
      "       financial_aid_score  credit_ranking  \n",
      "count          1599.000000     1599.000000  \n",
      "mean             10.422983        0.534709  \n",
      "std               1.065668        0.498950  \n",
      "min               8.400000        0.000000  \n",
      "25%               9.500000        0.000000  \n",
      "50%              10.200000        1.000000  \n",
      "75%              11.100000        1.000000  \n",
      "max              14.900000        1.000000  \n"
     ]
    }
   ],
   "source": [
    "# Read the csv into a Pandas DataFrame\n",
    "file_path = \"https://static.bc-edx.com/ai/ail-v-1-0/m18/lms/datasets/student-loans.csv\"\n",
    "loans_df = pd.read_csv(file_path)\n",
    "\n",
    "# Review the DataFrame\n",
    "loans_df.head()\n",
    "\n",
    "# Print DataFrame information\n",
    "print(loans_df.info())\n",
    "\n",
    "# Print summary statistics\n",
    "print(loans_df.describe())\n"
   ]
  },
  {
   "cell_type": "code",
   "execution_count": 13,
   "metadata": {
    "colab": {
     "base_uri": "https://localhost:8080/"
    },
    "id": "K8ZYB8wx6q6x",
    "outputId": "b509fc34-4488-406e-e451-2069fec37371"
   },
   "outputs": [
    {
     "name": "stdout",
     "output_type": "stream",
     "text": [
      "payment_history           float64\n",
      "location_parameter        float64\n",
      "stem_degree_score         float64\n",
      "gpa_ranking               float64\n",
      "alumni_success            float64\n",
      "study_major_code          float64\n",
      "time_to_completion        float64\n",
      "finance_workshop_score    float64\n",
      "cohort_ranking            float64\n",
      "total_loan_score          float64\n",
      "financial_aid_score       float64\n",
      "credit_ranking              int64\n",
      "dtype: object\n"
     ]
    }
   ],
   "source": [
    "# Review the data types associated with the columns\n",
    "loans_df.dtypes\n",
    "\n",
    "# Print the data types\n",
    "print(loans_df.dtypes)\n"
   ]
  },
  {
   "cell_type": "code",
   "execution_count": 15,
   "metadata": {
    "colab": {
     "base_uri": "https://localhost:8080/"
    },
    "id": "9P8aX-dW75JO",
    "outputId": "63251fa8-5ac1-4112-c2f7-bc5d97ea8491"
   },
   "outputs": [
    {
     "name": "stdout",
     "output_type": "stream",
     "text": [
      "credit_ranking\n",
      "1    855\n",
      "0    744\n",
      "Name: count, dtype: int64\n"
     ]
    }
   ],
   "source": [
    "# Check the credit_ranking value counts\n",
    "loans_df[\"credit_ranking\"].value_counts()\n",
    "\n",
    "# Print the value counts\n",
    "print(loans_df[\"credit_ranking\"].value_counts())\n"
   ]
  },
  {
   "cell_type": "markdown",
   "metadata": {
    "id": "R6vbZeDH6q6y"
   },
   "source": [
    "### Step 2: Using the preprocessed data, create the features (`X`) and target (`y`) datasets. The target dataset should be defined by the preprocessed DataFrame column “credit_ranking”. The remaining columns should define the features dataset."
   ]
  },
  {
   "cell_type": "code",
   "execution_count": 17,
   "metadata": {
    "colab": {
     "base_uri": "https://localhost:8080/"
    },
    "id": "Q5eVAP5M6q6y",
    "outputId": "89728bbf-6930-4573-a126-9f1b66ed8859"
   },
   "outputs": [
    {
     "name": "stdout",
     "output_type": "stream",
     "text": [
      "0    0\n",
      "1    0\n",
      "2    0\n",
      "3    1\n",
      "4    0\n",
      "Name: credit_ranking, dtype: int64\n"
     ]
    }
   ],
   "source": [
    "# Define the target set y using the credit_ranking column\n",
    "y = loans_df[\"credit_ranking\"]\n",
    "\n",
    "# Display a sample of y\n",
    "print(y.head())\n",
    "\n"
   ]
  },
  {
   "cell_type": "code",
   "execution_count": 19,
   "metadata": {
    "colab": {
     "base_uri": "https://localhost:8080/",
     "height": 226
    },
    "id": "IIkrD2Sn6q6z",
    "outputId": "ce07c4a3-fb81-4657-d11e-ec85ae8554c9"
   },
   "outputs": [
    {
     "name": "stdout",
     "output_type": "stream",
     "text": [
      "   payment_history  location_parameter  stem_degree_score  gpa_ranking  \\\n",
      "0              7.4                0.70               0.00          1.9   \n",
      "1              7.8                0.88               0.00          2.6   \n",
      "2              7.8                0.76               0.04          2.3   \n",
      "3             11.2                0.28               0.56          1.9   \n",
      "4              7.4                0.70               0.00          1.9   \n",
      "\n",
      "   alumni_success  study_major_code  time_to_completion  \\\n",
      "0           0.076              11.0                34.0   \n",
      "1           0.098              25.0                67.0   \n",
      "2           0.092              15.0                54.0   \n",
      "3           0.075              17.0                60.0   \n",
      "4           0.076              11.0                34.0   \n",
      "\n",
      "   finance_workshop_score  cohort_ranking  total_loan_score  \\\n",
      "0                  0.9978            3.51              0.56   \n",
      "1                  0.9968            3.20              0.68   \n",
      "2                  0.9970            3.26              0.65   \n",
      "3                  0.9980            3.16              0.58   \n",
      "4                  0.9978            3.51              0.56   \n",
      "\n",
      "   financial_aid_score  \n",
      "0                  9.4  \n",
      "1                  9.8  \n",
      "2                  9.8  \n",
      "3                  9.8  \n",
      "4                  9.4  \n"
     ]
    }
   ],
   "source": [
    "# Define features set X by selecting all columns but credit_ranking\n",
    "X = loans_df.drop(columns=[\"credit_ranking\"])\n",
    "\n",
    "# Review the features DataFrame\n",
    "print(X.head())\n"
   ]
  },
  {
   "cell_type": "markdown",
   "metadata": {
    "id": "QmM9c-tj6q6z"
   },
   "source": [
    "### Step 3: Split the features and target sets into training and testing datasets.\n"
   ]
  },
  {
   "cell_type": "code",
   "execution_count": 21,
   "metadata": {
    "id": "OD7xwU_96q6z"
   },
   "outputs": [
    {
     "name": "stdout",
     "output_type": "stream",
     "text": [
      "X_train shape: (1279, 11)\n",
      "X_test shape: (320, 11)\n",
      "y_train shape: (1279,)\n",
      "y_test shape: (320,)\n"
     ]
    }
   ],
   "source": [
    "from sklearn.model_selection import train_test_split\n",
    "\n",
    "# Split the preprocessed data into a training and testing dataset\n",
    "X_train, X_test, y_train, y_test = train_test_split(X, y, test_size=0.2, random_state=1)\n",
    "\n",
    "# Print the shapes of the resulting datasets\n",
    "print(f\"X_train shape: {X_train.shape}\")\n",
    "print(f\"X_test shape: {X_test.shape}\")\n",
    "print(f\"y_train shape: {y_train.shape}\")\n",
    "print(f\"y_test shape: {y_test.shape}\")\n"
   ]
  },
  {
   "cell_type": "markdown",
   "metadata": {
    "id": "G9i6DHY06q6z"
   },
   "source": [
    "### Step 4: Use scikit-learn's `StandardScaler` to scale the features data."
   ]
  },
  {
   "cell_type": "code",
   "execution_count": 23,
   "metadata": {
    "id": "BzD3z20m6q6z"
   },
   "outputs": [
    {
     "name": "stdout",
     "output_type": "stream",
     "text": [
      "   payment_history  location_parameter  stem_degree_score  gpa_ranking  \\\n",
      "0        -0.733079            0.664893          -1.257044    -0.320459   \n",
      "1         1.067741           -0.623462           1.523148     0.608863   \n",
      "2        -1.746040           -1.071585          -1.358142    -0.534917   \n",
      "3        -0.620528            0.496847          -1.054849    -0.034513   \n",
      "4        -0.507977            0.608877          -1.004300    -0.534917   \n",
      "\n",
      "   alumni_success  study_major_code  time_to_completion  \\\n",
      "0       -0.453622         -0.742407           -0.645507   \n",
      "1       -0.369546         -1.125190           -1.112003   \n",
      "2       -0.789922          1.075808            0.536281   \n",
      "3       -0.201396          0.118853            1.189375   \n",
      "4        0.261018         -0.742407           -0.707707   \n",
      "\n",
      "   finance_workshop_score  cohort_ranking  total_loan_score  \\\n",
      "0                0.240001        0.988460          0.063095   \n",
      "1                0.187899       -1.753513         -0.173904   \n",
      "2               -2.677737        2.327564          0.774090   \n",
      "3                0.375468        1.243528         -0.766400   \n",
      "4               -0.333126       -0.095575         -0.470152   \n",
      "\n",
      "   financial_aid_score  \n",
      "0            -0.872234  \n",
      "1            -0.779785  \n",
      "2             3.287990  \n",
      "3            -0.687335  \n",
      "4            -0.779785  \n"
     ]
    }
   ],
   "source": [
    "from sklearn.preprocessing import StandardScaler\n",
    "\n",
    "# Create a StandardScaler instance\n",
    "scaler = StandardScaler()\n",
    "\n",
    "# Fit the scaler to the features training dataset\n",
    "X_train_scaled = scaler.fit_transform(X_train)\n",
    "\n",
    "# Transform the testing dataset\n",
    "X_test_scaled = scaler.transform(X_test)\n",
    "\n",
    "# Print a preview of the scaled training data\n",
    "print(pd.DataFrame(X_train_scaled, columns=X.columns).head())\n"
   ]
  },
  {
   "cell_type": "markdown",
   "metadata": {
    "id": "CZzVDjba6q6z"
   },
   "source": [
    "---\n",
    "\n",
    "## Compile and Evaluate a Model Using a Neural Network"
   ]
  },
  {
   "cell_type": "markdown",
   "metadata": {
    "id": "m-pSux4Q6q60"
   },
   "source": [
    "### Step 1: Create a deep neural network by assigning the number of input features, the number of layers, and the number of neurons on each layer using Tensorflow’s Keras.\n",
    "\n",
    "> **Hint** You can start with a two-layer deep neural network model that uses the `relu` activation function for both layers.\n"
   ]
  },
  {
   "cell_type": "code",
   "execution_count": 25,
   "metadata": {
    "colab": {
     "base_uri": "https://localhost:8080/"
    },
    "id": "t5C94FCd6q60",
    "outputId": "cbf05783-2f56-4745-cd33-649a6152e510"
   },
   "outputs": [
    {
     "name": "stdout",
     "output_type": "stream",
     "text": [
      "Number of features: 11\n"
     ]
    }
   ],
   "source": [
    "# Define the number of inputs (features) to the model\n",
    "number_of_inputs = X_train.shape[1]\n",
    "\n",
    "# Review the number of features\n",
    "print(f\"Number of features: {number_of_inputs}\")\n"
   ]
  },
  {
   "cell_type": "code",
   "execution_count": 27,
   "metadata": {
    "id": "c_KXDLkF6q60"
   },
   "outputs": [
    {
     "name": "stdout",
     "output_type": "stream",
     "text": [
      "Hidden nodes in Layer 1: 64\n",
      "Hidden nodes in Layer 2: 32\n",
      "Output neurons: 1\n"
     ]
    }
   ],
   "source": [
    "# Define the number of hidden nodes for the first hidden layer\n",
    "hidden_nodes_layer1 = 64\n",
    "\n",
    "# Define the number of hidden nodes for the second hidden layer\n",
    "hidden_nodes_layer2 = 32\n",
    "\n",
    "# Define the number of neurons in the output layer\n",
    "output_neurons = 1\n",
    "\n",
    "# Print the defined parameters\n",
    "print(f\"Hidden nodes in Layer 1: {hidden_nodes_layer1}\")\n",
    "print(f\"Hidden nodes in Layer 2: {hidden_nodes_layer2}\")\n",
    "print(f\"Output neurons: {output_neurons}\")\n"
   ]
  },
  {
   "cell_type": "code",
   "execution_count": 31,
   "metadata": {
    "id": "63UdFncw6q60"
   },
   "outputs": [
    {
     "data": {
      "text/html": [
       "<pre style=\"white-space:pre;overflow-x:auto;line-height:normal;font-family:Menlo,'DejaVu Sans Mono',consolas,'Courier New',monospace\"><span style=\"font-weight: bold\">Model: \"sequential_1\"</span>\n",
       "</pre>\n"
      ],
      "text/plain": [
       "\u001b[1mModel: \"sequential_1\"\u001b[0m\n"
      ]
     },
     "metadata": {},
     "output_type": "display_data"
    },
    {
     "data": {
      "text/html": [
       "<pre style=\"white-space:pre;overflow-x:auto;line-height:normal;font-family:Menlo,'DejaVu Sans Mono',consolas,'Courier New',monospace\">┏━━━━━━━━━━━━━━━━━━━━━━━━━━━━━━━━━━━━━━┳━━━━━━━━━━━━━━━━━━━━━━━━━━━━━┳━━━━━━━━━━━━━━━━━┓\n",
       "┃<span style=\"font-weight: bold\"> Layer (type)                         </span>┃<span style=\"font-weight: bold\"> Output Shape                </span>┃<span style=\"font-weight: bold\">         Param # </span>┃\n",
       "┡━━━━━━━━━━━━━━━━━━━━━━━━━━━━━━━━━━━━━━╇━━━━━━━━━━━━━━━━━━━━━━━━━━━━━╇━━━━━━━━━━━━━━━━━┩\n",
       "│ dense_3 (<span style=\"color: #0087ff; text-decoration-color: #0087ff\">Dense</span>)                      │ (<span style=\"color: #00d7ff; text-decoration-color: #00d7ff\">None</span>, <span style=\"color: #00af00; text-decoration-color: #00af00\">64</span>)                  │             <span style=\"color: #00af00; text-decoration-color: #00af00\">768</span> │\n",
       "├──────────────────────────────────────┼─────────────────────────────┼─────────────────┤\n",
       "│ dense_4 (<span style=\"color: #0087ff; text-decoration-color: #0087ff\">Dense</span>)                      │ (<span style=\"color: #00d7ff; text-decoration-color: #00d7ff\">None</span>, <span style=\"color: #00af00; text-decoration-color: #00af00\">32</span>)                  │           <span style=\"color: #00af00; text-decoration-color: #00af00\">2,080</span> │\n",
       "├──────────────────────────────────────┼─────────────────────────────┼─────────────────┤\n",
       "│ dense_5 (<span style=\"color: #0087ff; text-decoration-color: #0087ff\">Dense</span>)                      │ (<span style=\"color: #00d7ff; text-decoration-color: #00d7ff\">None</span>, <span style=\"color: #00af00; text-decoration-color: #00af00\">1</span>)                   │              <span style=\"color: #00af00; text-decoration-color: #00af00\">33</span> │\n",
       "└──────────────────────────────────────┴─────────────────────────────┴─────────────────┘\n",
       "</pre>\n"
      ],
      "text/plain": [
       "┏━━━━━━━━━━━━━━━━━━━━━━━━━━━━━━━━━━━━━━┳━━━━━━━━━━━━━━━━━━━━━━━━━━━━━┳━━━━━━━━━━━━━━━━━┓\n",
       "┃\u001b[1m \u001b[0m\u001b[1mLayer (type)                        \u001b[0m\u001b[1m \u001b[0m┃\u001b[1m \u001b[0m\u001b[1mOutput Shape               \u001b[0m\u001b[1m \u001b[0m┃\u001b[1m \u001b[0m\u001b[1m        Param #\u001b[0m\u001b[1m \u001b[0m┃\n",
       "┡━━━━━━━━━━━━━━━━━━━━━━━━━━━━━━━━━━━━━━╇━━━━━━━━━━━━━━━━━━━━━━━━━━━━━╇━━━━━━━━━━━━━━━━━┩\n",
       "│ dense_3 (\u001b[38;5;33mDense\u001b[0m)                      │ (\u001b[38;5;45mNone\u001b[0m, \u001b[38;5;34m64\u001b[0m)                  │             \u001b[38;5;34m768\u001b[0m │\n",
       "├──────────────────────────────────────┼─────────────────────────────┼─────────────────┤\n",
       "│ dense_4 (\u001b[38;5;33mDense\u001b[0m)                      │ (\u001b[38;5;45mNone\u001b[0m, \u001b[38;5;34m32\u001b[0m)                  │           \u001b[38;5;34m2,080\u001b[0m │\n",
       "├──────────────────────────────────────┼─────────────────────────────┼─────────────────┤\n",
       "│ dense_5 (\u001b[38;5;33mDense\u001b[0m)                      │ (\u001b[38;5;45mNone\u001b[0m, \u001b[38;5;34m1\u001b[0m)                   │              \u001b[38;5;34m33\u001b[0m │\n",
       "└──────────────────────────────────────┴─────────────────────────────┴─────────────────┘\n"
      ]
     },
     "metadata": {},
     "output_type": "display_data"
    },
    {
     "data": {
      "text/html": [
       "<pre style=\"white-space:pre;overflow-x:auto;line-height:normal;font-family:Menlo,'DejaVu Sans Mono',consolas,'Courier New',monospace\"><span style=\"font-weight: bold\"> Total params: </span><span style=\"color: #00af00; text-decoration-color: #00af00\">2,881</span> (11.25 KB)\n",
       "</pre>\n"
      ],
      "text/plain": [
       "\u001b[1m Total params: \u001b[0m\u001b[38;5;34m2,881\u001b[0m (11.25 KB)\n"
      ]
     },
     "metadata": {},
     "output_type": "display_data"
    },
    {
     "data": {
      "text/html": [
       "<pre style=\"white-space:pre;overflow-x:auto;line-height:normal;font-family:Menlo,'DejaVu Sans Mono',consolas,'Courier New',monospace\"><span style=\"font-weight: bold\"> Trainable params: </span><span style=\"color: #00af00; text-decoration-color: #00af00\">2,881</span> (11.25 KB)\n",
       "</pre>\n"
      ],
      "text/plain": [
       "\u001b[1m Trainable params: \u001b[0m\u001b[38;5;34m2,881\u001b[0m (11.25 KB)\n"
      ]
     },
     "metadata": {},
     "output_type": "display_data"
    },
    {
     "data": {
      "text/html": [
       "<pre style=\"white-space:pre;overflow-x:auto;line-height:normal;font-family:Menlo,'DejaVu Sans Mono',consolas,'Courier New',monospace\"><span style=\"font-weight: bold\"> Non-trainable params: </span><span style=\"color: #00af00; text-decoration-color: #00af00\">0</span> (0.00 B)\n",
       "</pre>\n"
      ],
      "text/plain": [
       "\u001b[1m Non-trainable params: \u001b[0m\u001b[38;5;34m0\u001b[0m (0.00 B)\n"
      ]
     },
     "metadata": {},
     "output_type": "display_data"
    }
   ],
   "source": [
    "from tensorflow.keras import Input\n",
    "from tensorflow.keras.models import Sequential\n",
    "from tensorflow.keras.layers import Dense\n",
    "\n",
    "# Create the Sequential model instance\n",
    "model = Sequential()\n",
    "\n",
    "# Define input layer using Input(shape)\n",
    "model.add(Input(shape=(number_of_inputs,)))\n",
    "\n",
    "# Add the first hidden layer\n",
    "model.add(Dense(units=hidden_nodes_layer1, activation='relu'))\n",
    "\n",
    "# Add the second hidden layer\n",
    "model.add(Dense(units=hidden_nodes_layer2, activation='relu'))\n",
    "\n",
    "# Add the output layer to the model specifying the number of output neurons and activation function\n",
    "model.add(Dense(units=output_neurons, activation='sigmoid'))\n",
    "\n",
    "# Print the model summary\n",
    "model.summary()\n"
   ]
  },
  {
   "cell_type": "code",
   "execution_count": 33,
   "metadata": {
    "colab": {
     "base_uri": "https://localhost:8080/"
    },
    "id": "-Beoh4f_6q61",
    "outputId": "2e50f810-086b-4d89-bf7d-98afbe0d649d"
   },
   "outputs": [
    {
     "data": {
      "text/html": [
       "<pre style=\"white-space:pre;overflow-x:auto;line-height:normal;font-family:Menlo,'DejaVu Sans Mono',consolas,'Courier New',monospace\"><span style=\"font-weight: bold\">Model: \"sequential_1\"</span>\n",
       "</pre>\n"
      ],
      "text/plain": [
       "\u001b[1mModel: \"sequential_1\"\u001b[0m\n"
      ]
     },
     "metadata": {},
     "output_type": "display_data"
    },
    {
     "data": {
      "text/html": [
       "<pre style=\"white-space:pre;overflow-x:auto;line-height:normal;font-family:Menlo,'DejaVu Sans Mono',consolas,'Courier New',monospace\">┏━━━━━━━━━━━━━━━━━━━━━━━━━━━━━━━━━━━━━━┳━━━━━━━━━━━━━━━━━━━━━━━━━━━━━┳━━━━━━━━━━━━━━━━━┓\n",
       "┃<span style=\"font-weight: bold\"> Layer (type)                         </span>┃<span style=\"font-weight: bold\"> Output Shape                </span>┃<span style=\"font-weight: bold\">         Param # </span>┃\n",
       "┡━━━━━━━━━━━━━━━━━━━━━━━━━━━━━━━━━━━━━━╇━━━━━━━━━━━━━━━━━━━━━━━━━━━━━╇━━━━━━━━━━━━━━━━━┩\n",
       "│ dense_3 (<span style=\"color: #0087ff; text-decoration-color: #0087ff\">Dense</span>)                      │ (<span style=\"color: #00d7ff; text-decoration-color: #00d7ff\">None</span>, <span style=\"color: #00af00; text-decoration-color: #00af00\">64</span>)                  │             <span style=\"color: #00af00; text-decoration-color: #00af00\">768</span> │\n",
       "├──────────────────────────────────────┼─────────────────────────────┼─────────────────┤\n",
       "│ dense_4 (<span style=\"color: #0087ff; text-decoration-color: #0087ff\">Dense</span>)                      │ (<span style=\"color: #00d7ff; text-decoration-color: #00d7ff\">None</span>, <span style=\"color: #00af00; text-decoration-color: #00af00\">32</span>)                  │           <span style=\"color: #00af00; text-decoration-color: #00af00\">2,080</span> │\n",
       "├──────────────────────────────────────┼─────────────────────────────┼─────────────────┤\n",
       "│ dense_5 (<span style=\"color: #0087ff; text-decoration-color: #0087ff\">Dense</span>)                      │ (<span style=\"color: #00d7ff; text-decoration-color: #00d7ff\">None</span>, <span style=\"color: #00af00; text-decoration-color: #00af00\">1</span>)                   │              <span style=\"color: #00af00; text-decoration-color: #00af00\">33</span> │\n",
       "└──────────────────────────────────────┴─────────────────────────────┴─────────────────┘\n",
       "</pre>\n"
      ],
      "text/plain": [
       "┏━━━━━━━━━━━━━━━━━━━━━━━━━━━━━━━━━━━━━━┳━━━━━━━━━━━━━━━━━━━━━━━━━━━━━┳━━━━━━━━━━━━━━━━━┓\n",
       "┃\u001b[1m \u001b[0m\u001b[1mLayer (type)                        \u001b[0m\u001b[1m \u001b[0m┃\u001b[1m \u001b[0m\u001b[1mOutput Shape               \u001b[0m\u001b[1m \u001b[0m┃\u001b[1m \u001b[0m\u001b[1m        Param #\u001b[0m\u001b[1m \u001b[0m┃\n",
       "┡━━━━━━━━━━━━━━━━━━━━━━━━━━━━━━━━━━━━━━╇━━━━━━━━━━━━━━━━━━━━━━━━━━━━━╇━━━━━━━━━━━━━━━━━┩\n",
       "│ dense_3 (\u001b[38;5;33mDense\u001b[0m)                      │ (\u001b[38;5;45mNone\u001b[0m, \u001b[38;5;34m64\u001b[0m)                  │             \u001b[38;5;34m768\u001b[0m │\n",
       "├──────────────────────────────────────┼─────────────────────────────┼─────────────────┤\n",
       "│ dense_4 (\u001b[38;5;33mDense\u001b[0m)                      │ (\u001b[38;5;45mNone\u001b[0m, \u001b[38;5;34m32\u001b[0m)                  │           \u001b[38;5;34m2,080\u001b[0m │\n",
       "├──────────────────────────────────────┼─────────────────────────────┼─────────────────┤\n",
       "│ dense_5 (\u001b[38;5;33mDense\u001b[0m)                      │ (\u001b[38;5;45mNone\u001b[0m, \u001b[38;5;34m1\u001b[0m)                   │              \u001b[38;5;34m33\u001b[0m │\n",
       "└──────────────────────────────────────┴─────────────────────────────┴─────────────────┘\n"
      ]
     },
     "metadata": {},
     "output_type": "display_data"
    },
    {
     "data": {
      "text/html": [
       "<pre style=\"white-space:pre;overflow-x:auto;line-height:normal;font-family:Menlo,'DejaVu Sans Mono',consolas,'Courier New',monospace\"><span style=\"font-weight: bold\"> Total params: </span><span style=\"color: #00af00; text-decoration-color: #00af00\">2,881</span> (11.25 KB)\n",
       "</pre>\n"
      ],
      "text/plain": [
       "\u001b[1m Total params: \u001b[0m\u001b[38;5;34m2,881\u001b[0m (11.25 KB)\n"
      ]
     },
     "metadata": {},
     "output_type": "display_data"
    },
    {
     "data": {
      "text/html": [
       "<pre style=\"white-space:pre;overflow-x:auto;line-height:normal;font-family:Menlo,'DejaVu Sans Mono',consolas,'Courier New',monospace\"><span style=\"font-weight: bold\"> Trainable params: </span><span style=\"color: #00af00; text-decoration-color: #00af00\">2,881</span> (11.25 KB)\n",
       "</pre>\n"
      ],
      "text/plain": [
       "\u001b[1m Trainable params: \u001b[0m\u001b[38;5;34m2,881\u001b[0m (11.25 KB)\n"
      ]
     },
     "metadata": {},
     "output_type": "display_data"
    },
    {
     "data": {
      "text/html": [
       "<pre style=\"white-space:pre;overflow-x:auto;line-height:normal;font-family:Menlo,'DejaVu Sans Mono',consolas,'Courier New',monospace\"><span style=\"font-weight: bold\"> Non-trainable params: </span><span style=\"color: #00af00; text-decoration-color: #00af00\">0</span> (0.00 B)\n",
       "</pre>\n"
      ],
      "text/plain": [
       "\u001b[1m Non-trainable params: \u001b[0m\u001b[38;5;34m0\u001b[0m (0.00 B)\n"
      ]
     },
     "metadata": {},
     "output_type": "display_data"
    },
    {
     "name": "stdout",
     "output_type": "stream",
     "text": [
      "Model summary displayed successfully.\n"
     ]
    }
   ],
   "source": [
    "# Display the Sequential model summary\n",
    "model.summary()\n",
    "\n",
    "# Print confirmation\n",
    "print(\"Model summary displayed successfully.\")\n"
   ]
  },
  {
   "cell_type": "markdown",
   "metadata": {
    "id": "nRqWGIRo6q61"
   },
   "source": [
    "### Step 2: Compile and fit the model using the `binary_crossentropy` loss function, the `adam` optimizer, and the `accuracy` evaluation metric.\n"
   ]
  },
  {
   "cell_type": "code",
   "execution_count": 35,
   "metadata": {
    "id": "E-hZaeSn6q61"
   },
   "outputs": [
    {
     "name": "stdout",
     "output_type": "stream",
     "text": [
      "Model compiled successfully.\n"
     ]
    }
   ],
   "source": [
    "# Compile the Sequential model\n",
    "model.compile(optimizer='adam',\n",
    "              loss='binary_crossentropy',\n",
    "              metrics=['accuracy'])\n",
    "\n",
    "# Print confirmation\n",
    "print(\"Model compiled successfully.\")\n"
   ]
  },
  {
   "cell_type": "code",
   "execution_count": 37,
   "metadata": {
    "colab": {
     "base_uri": "https://localhost:8080/"
    },
    "id": "x25e8Idc6q61",
    "outputId": "e95946ba-23da-47a3-a1c1-5e9a2a484a47"
   },
   "outputs": [
    {
     "name": "stdout",
     "output_type": "stream",
     "text": [
      "Epoch 1/50\n",
      "\u001b[1m32/32\u001b[0m \u001b[32m━━━━━━━━━━━━━━━━━━━━\u001b[0m\u001b[37m\u001b[0m \u001b[1m5s\u001b[0m 30ms/step - accuracy: 0.5220 - loss: 0.6905 - val_accuracy: 0.7188 - val_loss: 0.5882\n",
      "Epoch 2/50\n",
      "\u001b[1m32/32\u001b[0m \u001b[32m━━━━━━━━━━━━━━━━━━━━\u001b[0m\u001b[37m\u001b[0m \u001b[1m0s\u001b[0m 8ms/step - accuracy: 0.7432 - loss: 0.5682 - val_accuracy: 0.7266 - val_loss: 0.5396\n",
      "Epoch 3/50\n",
      "\u001b[1m32/32\u001b[0m \u001b[32m━━━━━━━━━━━━━━━━━━━━\u001b[0m\u001b[37m\u001b[0m \u001b[1m0s\u001b[0m 8ms/step - accuracy: 0.7653 - loss: 0.5075 - val_accuracy: 0.7305 - val_loss: 0.5226\n",
      "Epoch 4/50\n",
      "\u001b[1m32/32\u001b[0m \u001b[32m━━━━━━━━━━━━━━━━━━━━\u001b[0m\u001b[37m\u001b[0m \u001b[1m0s\u001b[0m 9ms/step - accuracy: 0.7671 - loss: 0.5071 - val_accuracy: 0.7461 - val_loss: 0.5180\n",
      "Epoch 5/50\n",
      "\u001b[1m32/32\u001b[0m \u001b[32m━━━━━━━━━━━━━━━━━━━━\u001b[0m\u001b[37m\u001b[0m \u001b[1m0s\u001b[0m 9ms/step - accuracy: 0.7614 - loss: 0.5184 - val_accuracy: 0.7461 - val_loss: 0.5149\n",
      "Epoch 6/50\n",
      "\u001b[1m32/32\u001b[0m \u001b[32m━━━━━━━━━━━━━━━━━━━━\u001b[0m\u001b[37m\u001b[0m \u001b[1m0s\u001b[0m 9ms/step - accuracy: 0.7702 - loss: 0.4952 - val_accuracy: 0.7422 - val_loss: 0.5113\n",
      "Epoch 7/50\n",
      "\u001b[1m32/32\u001b[0m \u001b[32m━━━━━━━━━━━━━━━━━━━━\u001b[0m\u001b[37m\u001b[0m \u001b[1m0s\u001b[0m 9ms/step - accuracy: 0.7657 - loss: 0.4913 - val_accuracy: 0.7422 - val_loss: 0.5124\n",
      "Epoch 8/50\n",
      "\u001b[1m32/32\u001b[0m \u001b[32m━━━━━━━━━━━━━━━━━━━━\u001b[0m\u001b[37m\u001b[0m \u001b[1m0s\u001b[0m 9ms/step - accuracy: 0.7729 - loss: 0.4740 - val_accuracy: 0.7461 - val_loss: 0.5115\n",
      "Epoch 9/50\n",
      "\u001b[1m32/32\u001b[0m \u001b[32m━━━━━━━━━━━━━━━━━━━━\u001b[0m\u001b[37m\u001b[0m \u001b[1m0s\u001b[0m 7ms/step - accuracy: 0.7891 - loss: 0.4518 - val_accuracy: 0.7383 - val_loss: 0.5112\n",
      "Epoch 10/50\n",
      "\u001b[1m32/32\u001b[0m \u001b[32m━━━━━━━━━━━━━━━━━━━━\u001b[0m\u001b[37m\u001b[0m \u001b[1m0s\u001b[0m 8ms/step - accuracy: 0.7813 - loss: 0.4585 - val_accuracy: 0.7461 - val_loss: 0.5096\n",
      "Epoch 11/50\n",
      "\u001b[1m32/32\u001b[0m \u001b[32m━━━━━━━━━━━━━━━━━━━━\u001b[0m\u001b[37m\u001b[0m \u001b[1m0s\u001b[0m 7ms/step - accuracy: 0.7766 - loss: 0.4617 - val_accuracy: 0.7461 - val_loss: 0.5099\n",
      "Epoch 12/50\n",
      "\u001b[1m32/32\u001b[0m \u001b[32m━━━━━━━━━━━━━━━━━━━━\u001b[0m\u001b[37m\u001b[0m \u001b[1m0s\u001b[0m 8ms/step - accuracy: 0.7494 - loss: 0.4657 - val_accuracy: 0.7383 - val_loss: 0.5100\n",
      "Epoch 13/50\n",
      "\u001b[1m32/32\u001b[0m \u001b[32m━━━━━━━━━━━━━━━━━━━━\u001b[0m\u001b[37m\u001b[0m \u001b[1m1s\u001b[0m 15ms/step - accuracy: 0.7916 - loss: 0.4445 - val_accuracy: 0.7500 - val_loss: 0.5127\n",
      "Epoch 14/50\n",
      "\u001b[1m32/32\u001b[0m \u001b[32m━━━━━━━━━━━━━━━━━━━━\u001b[0m\u001b[37m\u001b[0m \u001b[1m1s\u001b[0m 14ms/step - accuracy: 0.8039 - loss: 0.4139 - val_accuracy: 0.7461 - val_loss: 0.5137\n",
      "Epoch 15/50\n",
      "\u001b[1m32/32\u001b[0m \u001b[32m━━━━━━━━━━━━━━━━━━━━\u001b[0m\u001b[37m\u001b[0m \u001b[1m1s\u001b[0m 13ms/step - accuracy: 0.8011 - loss: 0.4388 - val_accuracy: 0.7539 - val_loss: 0.5146\n",
      "Epoch 16/50\n",
      "\u001b[1m32/32\u001b[0m \u001b[32m━━━━━━━━━━━━━━━━━━━━\u001b[0m\u001b[37m\u001b[0m \u001b[1m0s\u001b[0m 12ms/step - accuracy: 0.8089 - loss: 0.4128 - val_accuracy: 0.7500 - val_loss: 0.5153\n",
      "Epoch 17/50\n",
      "\u001b[1m32/32\u001b[0m \u001b[32m━━━━━━━━━━━━━━━━━━━━\u001b[0m\u001b[37m\u001b[0m \u001b[1m1s\u001b[0m 14ms/step - accuracy: 0.8056 - loss: 0.4155 - val_accuracy: 0.7539 - val_loss: 0.5178\n",
      "Epoch 18/50\n",
      "\u001b[1m32/32\u001b[0m \u001b[32m━━━━━━━━━━━━━━━━━━━━\u001b[0m\u001b[37m\u001b[0m \u001b[1m0s\u001b[0m 10ms/step - accuracy: 0.8029 - loss: 0.4144 - val_accuracy: 0.7344 - val_loss: 0.5149\n",
      "Epoch 19/50\n",
      "\u001b[1m32/32\u001b[0m \u001b[32m━━━━━━━━━━━━━━━━━━━━\u001b[0m\u001b[37m\u001b[0m \u001b[1m0s\u001b[0m 11ms/step - accuracy: 0.8024 - loss: 0.4047 - val_accuracy: 0.7344 - val_loss: 0.5158\n",
      "Epoch 20/50\n",
      "\u001b[1m32/32\u001b[0m \u001b[32m━━━━━━━━━━━━━━━━━━━━\u001b[0m\u001b[37m\u001b[0m \u001b[1m0s\u001b[0m 13ms/step - accuracy: 0.8110 - loss: 0.4105 - val_accuracy: 0.7500 - val_loss: 0.5168\n",
      "Epoch 21/50\n",
      "\u001b[1m32/32\u001b[0m \u001b[32m━━━━━━━━━━━━━━━━━━━━\u001b[0m\u001b[37m\u001b[0m \u001b[1m0s\u001b[0m 11ms/step - accuracy: 0.7983 - loss: 0.4277 - val_accuracy: 0.7539 - val_loss: 0.5193\n",
      "Epoch 22/50\n",
      "\u001b[1m32/32\u001b[0m \u001b[32m━━━━━━━━━━━━━━━━━━━━\u001b[0m\u001b[37m\u001b[0m \u001b[1m0s\u001b[0m 11ms/step - accuracy: 0.8168 - loss: 0.4040 - val_accuracy: 0.7539 - val_loss: 0.5194\n",
      "Epoch 23/50\n",
      "\u001b[1m32/32\u001b[0m \u001b[32m━━━━━━━━━━━━━━━━━━━━\u001b[0m\u001b[37m\u001b[0m \u001b[1m0s\u001b[0m 10ms/step - accuracy: 0.8370 - loss: 0.3865 - val_accuracy: 0.7539 - val_loss: 0.5201\n",
      "Epoch 24/50\n",
      "\u001b[1m32/32\u001b[0m \u001b[32m━━━━━━━━━━━━━━━━━━━━\u001b[0m\u001b[37m\u001b[0m \u001b[1m0s\u001b[0m 10ms/step - accuracy: 0.8208 - loss: 0.3893 - val_accuracy: 0.7422 - val_loss: 0.5188\n",
      "Epoch 25/50\n",
      "\u001b[1m32/32\u001b[0m \u001b[32m━━━━━━━━━━━━━━━━━━━━\u001b[0m\u001b[37m\u001b[0m \u001b[1m0s\u001b[0m 11ms/step - accuracy: 0.8198 - loss: 0.3880 - val_accuracy: 0.7422 - val_loss: 0.5194\n",
      "Epoch 26/50\n",
      "\u001b[1m32/32\u001b[0m \u001b[32m━━━━━━━━━━━━━━━━━━━━\u001b[0m\u001b[37m\u001b[0m \u001b[1m1s\u001b[0m 9ms/step - accuracy: 0.8212 - loss: 0.3794 - val_accuracy: 0.7461 - val_loss: 0.5230\n",
      "Epoch 27/50\n",
      "\u001b[1m32/32\u001b[0m \u001b[32m━━━━━━━━━━━━━━━━━━━━\u001b[0m\u001b[37m\u001b[0m \u001b[1m0s\u001b[0m 12ms/step - accuracy: 0.8098 - loss: 0.4047 - val_accuracy: 0.7500 - val_loss: 0.5229\n",
      "Epoch 28/50\n",
      "\u001b[1m32/32\u001b[0m \u001b[32m━━━━━━━━━━━━━━━━━━━━\u001b[0m\u001b[37m\u001b[0m \u001b[1m0s\u001b[0m 9ms/step - accuracy: 0.8268 - loss: 0.3798 - val_accuracy: 0.7695 - val_loss: 0.5284\n",
      "Epoch 29/50\n",
      "\u001b[1m32/32\u001b[0m \u001b[32m━━━━━━━━━━━━━━━━━━━━\u001b[0m\u001b[37m\u001b[0m \u001b[1m0s\u001b[0m 10ms/step - accuracy: 0.8313 - loss: 0.3945 - val_accuracy: 0.7461 - val_loss: 0.5228\n",
      "Epoch 30/50\n",
      "\u001b[1m32/32\u001b[0m \u001b[32m━━━━━━━━━━━━━━━━━━━━\u001b[0m\u001b[37m\u001b[0m \u001b[1m1s\u001b[0m 8ms/step - accuracy: 0.8221 - loss: 0.3894 - val_accuracy: 0.7500 - val_loss: 0.5247\n",
      "Epoch 31/50\n",
      "\u001b[1m32/32\u001b[0m \u001b[32m━━━━━━━━━━━━━━━━━━━━\u001b[0m\u001b[37m\u001b[0m \u001b[1m0s\u001b[0m 8ms/step - accuracy: 0.8362 - loss: 0.3740 - val_accuracy: 0.7500 - val_loss: 0.5252\n",
      "Epoch 32/50\n",
      "\u001b[1m32/32\u001b[0m \u001b[32m━━━━━━━━━━━━━━━━━━━━\u001b[0m\u001b[37m\u001b[0m \u001b[1m0s\u001b[0m 8ms/step - accuracy: 0.8323 - loss: 0.3625 - val_accuracy: 0.7656 - val_loss: 0.5317\n",
      "Epoch 33/50\n",
      "\u001b[1m32/32\u001b[0m \u001b[32m━━━━━━━━━━━━━━━━━━━━\u001b[0m\u001b[37m\u001b[0m \u001b[1m1s\u001b[0m 11ms/step - accuracy: 0.8317 - loss: 0.3852 - val_accuracy: 0.7500 - val_loss: 0.5256\n",
      "Epoch 34/50\n",
      "\u001b[1m32/32\u001b[0m \u001b[32m━━━━━━━━━━━━━━━━━━━━\u001b[0m\u001b[37m\u001b[0m \u001b[1m0s\u001b[0m 10ms/step - accuracy: 0.8459 - loss: 0.3530 - val_accuracy: 0.7617 - val_loss: 0.5269\n",
      "Epoch 35/50\n",
      "\u001b[1m32/32\u001b[0m \u001b[32m━━━━━━━━━━━━━━━━━━━━\u001b[0m\u001b[37m\u001b[0m \u001b[1m0s\u001b[0m 10ms/step - accuracy: 0.8657 - loss: 0.3397 - val_accuracy: 0.7695 - val_loss: 0.5272\n",
      "Epoch 36/50\n",
      "\u001b[1m32/32\u001b[0m \u001b[32m━━━━━━━━━━━━━━━━━━━━\u001b[0m\u001b[37m\u001b[0m \u001b[1m0s\u001b[0m 10ms/step - accuracy: 0.8431 - loss: 0.3346 - val_accuracy: 0.7656 - val_loss: 0.5302\n",
      "Epoch 37/50\n",
      "\u001b[1m32/32\u001b[0m \u001b[32m━━━━━━━━━━━━━━━━━━━━\u001b[0m\u001b[37m\u001b[0m \u001b[1m0s\u001b[0m 10ms/step - accuracy: 0.8468 - loss: 0.3536 - val_accuracy: 0.7578 - val_loss: 0.5424\n",
      "Epoch 38/50\n",
      "\u001b[1m32/32\u001b[0m \u001b[32m━━━━━━━━━━━━━━━━━━━━\u001b[0m\u001b[37m\u001b[0m \u001b[1m0s\u001b[0m 10ms/step - accuracy: 0.8421 - loss: 0.3432 - val_accuracy: 0.7461 - val_loss: 0.5286\n",
      "Epoch 39/50\n",
      "\u001b[1m32/32\u001b[0m \u001b[32m━━━━━━━━━━━━━━━━━━━━\u001b[0m\u001b[37m\u001b[0m \u001b[1m0s\u001b[0m 10ms/step - accuracy: 0.8467 - loss: 0.3423 - val_accuracy: 0.7578 - val_loss: 0.5299\n",
      "Epoch 40/50\n",
      "\u001b[1m32/32\u001b[0m \u001b[32m━━━━━━━━━━━━━━━━━━━━\u001b[0m\u001b[37m\u001b[0m \u001b[1m0s\u001b[0m 11ms/step - accuracy: 0.8682 - loss: 0.3370 - val_accuracy: 0.7656 - val_loss: 0.5378\n",
      "Epoch 41/50\n",
      "\u001b[1m32/32\u001b[0m \u001b[32m━━━━━━━━━━━━━━━━━━━━\u001b[0m\u001b[37m\u001b[0m \u001b[1m0s\u001b[0m 10ms/step - accuracy: 0.8642 - loss: 0.3287 - val_accuracy: 0.7578 - val_loss: 0.5346\n",
      "Epoch 42/50\n",
      "\u001b[1m32/32\u001b[0m \u001b[32m━━━━━━━━━━━━━━━━━━━━\u001b[0m\u001b[37m\u001b[0m \u001b[1m0s\u001b[0m 8ms/step - accuracy: 0.8658 - loss: 0.3276 - val_accuracy: 0.7656 - val_loss: 0.5277\n",
      "Epoch 43/50\n",
      "\u001b[1m32/32\u001b[0m \u001b[32m━━━━━━━━━━━━━━━━━━━━\u001b[0m\u001b[37m\u001b[0m \u001b[1m0s\u001b[0m 9ms/step - accuracy: 0.8710 - loss: 0.3333 - val_accuracy: 0.7812 - val_loss: 0.5400\n",
      "Epoch 44/50\n",
      "\u001b[1m32/32\u001b[0m \u001b[32m━━━━━━━━━━━━━━━━━━━━\u001b[0m\u001b[37m\u001b[0m \u001b[1m1s\u001b[0m 9ms/step - accuracy: 0.8636 - loss: 0.3356 - val_accuracy: 0.7656 - val_loss: 0.5335\n",
      "Epoch 45/50\n",
      "\u001b[1m32/32\u001b[0m \u001b[32m━━━━━━━━━━━━━━━━━━━━\u001b[0m\u001b[37m\u001b[0m \u001b[1m0s\u001b[0m 9ms/step - accuracy: 0.8484 - loss: 0.3404 - val_accuracy: 0.7695 - val_loss: 0.5341\n",
      "Epoch 46/50\n",
      "\u001b[1m32/32\u001b[0m \u001b[32m━━━━━━━━━━━━━━━━━━━━\u001b[0m\u001b[37m\u001b[0m \u001b[1m0s\u001b[0m 9ms/step - accuracy: 0.8685 - loss: 0.3102 - val_accuracy: 0.7539 - val_loss: 0.5355\n",
      "Epoch 47/50\n",
      "\u001b[1m32/32\u001b[0m \u001b[32m━━━━━━━━━━━━━━━━━━━━\u001b[0m\u001b[37m\u001b[0m \u001b[1m0s\u001b[0m 8ms/step - accuracy: 0.8495 - loss: 0.3389 - val_accuracy: 0.7656 - val_loss: 0.5328\n",
      "Epoch 48/50\n",
      "\u001b[1m32/32\u001b[0m \u001b[32m━━━━━━━━━━━━━━━━━━━━\u001b[0m\u001b[37m\u001b[0m \u001b[1m0s\u001b[0m 9ms/step - accuracy: 0.8632 - loss: 0.3336 - val_accuracy: 0.7578 - val_loss: 0.5362\n",
      "Epoch 49/50\n",
      "\u001b[1m32/32\u001b[0m \u001b[32m━━━━━━━━━━━━━━━━━━━━\u001b[0m\u001b[37m\u001b[0m \u001b[1m0s\u001b[0m 10ms/step - accuracy: 0.8786 - loss: 0.3193 - val_accuracy: 0.7656 - val_loss: 0.5520\n",
      "Epoch 50/50\n",
      "\u001b[1m32/32\u001b[0m \u001b[32m━━━━━━━━━━━━━━━━━━━━\u001b[0m\u001b[37m\u001b[0m \u001b[1m0s\u001b[0m 10ms/step - accuracy: 0.8558 - loss: 0.3243 - val_accuracy: 0.7656 - val_loss: 0.5369\n",
      "Model training completed.\n"
     ]
    }
   ],
   "source": [
    "# Fit the model using 50 epochs and the training data\n",
    "history = model.fit(X_train_scaled, y_train, epochs=50, validation_split=0.2)\n",
    "\n",
    "# Print confirmation\n",
    "print(\"Model training completed.\")\n"
   ]
  },
  {
   "cell_type": "markdown",
   "metadata": {
    "id": "RfHMPZVI6q61"
   },
   "source": [
    "### Step 3: Evaluate the model using the test data to determine the model’s loss and accuracy.\n"
   ]
  },
  {
   "cell_type": "code",
   "execution_count": 39,
   "metadata": {
    "colab": {
     "base_uri": "https://localhost:8080/"
    },
    "id": "5hfVADKo6q61",
    "outputId": "7df473ad-3301-4b49-e5c3-16e1687cc1cf"
   },
   "outputs": [
    {
     "name": "stdout",
     "output_type": "stream",
     "text": [
      "\u001b[1m10/10\u001b[0m \u001b[32m━━━━━━━━━━━━━━━━━━━━\u001b[0m\u001b[37m\u001b[0m \u001b[1m0s\u001b[0m 9ms/step - accuracy: 0.7861 - loss: 0.5382 \n",
      "Model Loss: 0.5850\n",
      "Model Accuracy: 0.7719\n"
     ]
    }
   ],
   "source": [
    "# Evaluate the model loss and accuracy metrics using the evaluate method and the test data\n",
    "loss, accuracy = model.evaluate(X_test_scaled, y_test)\n",
    "\n",
    "# Display the model loss and accuracy results\n",
    "print(f\"Model Loss: {loss:.4f}\")\n",
    "print(f\"Model Accuracy: {accuracy:.4f}\")\n"
   ]
  },
  {
   "cell_type": "markdown",
   "metadata": {
    "id": "jpAv0rXA6q61"
   },
   "source": [
    "### Step 4: Save and export your model to a keras file, and name the file `student_loans.keras`.\n"
   ]
  },
  {
   "cell_type": "code",
   "execution_count": 41,
   "metadata": {
    "id": "q0MetN0W6q61"
   },
   "outputs": [
    {
     "name": "stdout",
     "output_type": "stream",
     "text": [
      "Model saved successfully at student_loans.keras.\n"
     ]
    }
   ],
   "source": [
    "# Set the model's file path\n",
    "model_file_path = \"student_loans.keras\"\n",
    "\n",
    "# Export your model to a keras file\n",
    "model.save(model_file_path)\n",
    "\n",
    "# Print confirmation\n",
    "print(f\"Model saved successfully at {model_file_path}.\")\n"
   ]
  },
  {
   "cell_type": "markdown",
   "metadata": {
    "id": "R1opCDdN6q61"
   },
   "source": [
    "---\n",
    "## Predict Loan Repayment Success by Using your Neural Network Model"
   ]
  },
  {
   "cell_type": "markdown",
   "metadata": {
    "id": "TfIfpeiy6q61"
   },
   "source": [
    "### Step 1: Reload your saved model."
   ]
  },
  {
   "cell_type": "code",
   "execution_count": 43,
   "metadata": {
    "id": "OCET2mvW6q61"
   },
   "outputs": [
    {
     "name": "stdout",
     "output_type": "stream",
     "text": [
      "Model loaded successfully.\n"
     ]
    }
   ],
   "source": [
    "from tensorflow.keras.models import load_model\n",
    "\n",
    "# Set the model's file path\n",
    "model_file_path = \"student_loans.keras\"\n",
    "\n",
    "# Load the model to a new object\n",
    "loaded_model = load_model(model_file_path)\n",
    "\n",
    "# Print confirmation\n",
    "print(\"Model loaded successfully.\")\n",
    "\n"
   ]
  },
  {
   "cell_type": "markdown",
   "metadata": {
    "id": "rTPKooGw6q61"
   },
   "source": [
    "### Step 2: Make predictions on the testing data and save the predictions to a DataFrame."
   ]
  },
  {
   "cell_type": "code",
   "execution_count": 45,
   "metadata": {
    "colab": {
     "base_uri": "https://localhost:8080/"
    },
    "id": "Vet7qjgx6q62",
    "outputId": "0925af42-7e12-4978-8396-2a2c1580e1eb"
   },
   "outputs": [
    {
     "name": "stdout",
     "output_type": "stream",
     "text": [
      "\u001b[1m10/10\u001b[0m \u001b[32m━━━━━━━━━━━━━━━━━━━━\u001b[0m\u001b[37m\u001b[0m \u001b[1m0s\u001b[0m 5ms/step  \n",
      "[[0.21004723]\n",
      " [0.3606167 ]\n",
      " [0.95955145]\n",
      " [0.8143242 ]\n",
      " [0.98554534]]\n"
     ]
    }
   ],
   "source": [
    "# Make predictions with the test data\n",
    "predictions = loaded_model.predict(X_test_scaled)\n",
    "\n",
    "# Display a sample of the predictions\n",
    "print(predictions[:5])\n"
   ]
  },
  {
   "cell_type": "code",
   "execution_count": 47,
   "metadata": {
    "colab": {
     "base_uri": "https://localhost:8080/",
     "height": 424
    },
    "id": "87o8exFPhjfl",
    "outputId": "da5339c5-cea7-43e4-ec22-e168ea16dfa2"
   },
   "outputs": [
    {
     "name": "stdout",
     "output_type": "stream",
     "text": [
      "   Predicted\n",
      "0          0\n",
      "1          0\n",
      "2          1\n",
      "3          1\n",
      "4          1\n"
     ]
    }
   ],
   "source": [
    "# Save the predictions to a DataFrame and round the predictions to binary results\n",
    "predictions_df = pd.DataFrame((predictions > 0.5).astype(int), columns=[\"Predicted\"])\n",
    "\n",
    "# Display the first few rows of the DataFrame\n",
    "print(predictions_df.head())\n"
   ]
  },
  {
   "cell_type": "markdown",
   "metadata": {
    "id": "oxxLwycg6q62"
   },
   "source": [
    "### Step 4: Display a classification report with the y test data and predictions"
   ]
  },
  {
   "cell_type": "code",
   "execution_count": 49,
   "metadata": {
    "colab": {
     "base_uri": "https://localhost:8080/"
    },
    "id": "UTxYZibW6q67",
    "outputId": "f341b396-9b4c-478c-dba8-f6d904ba10e3"
   },
   "outputs": [
    {
     "name": "stdout",
     "output_type": "stream",
     "text": [
      "              precision    recall  f1-score   support\n",
      "\n",
      "           0       0.78      0.73      0.75       154\n",
      "           1       0.76      0.81      0.79       166\n",
      "\n",
      "    accuracy                           0.77       320\n",
      "   macro avg       0.77      0.77      0.77       320\n",
      "weighted avg       0.77      0.77      0.77       320\n",
      "\n"
     ]
    }
   ],
   "source": [
    "# Print the classification report with the y test data and predictions\n",
    "print(classification_report(y_test, predictions_df))\n"
   ]
  },
  {
   "cell_type": "markdown",
   "metadata": {
    "id": "8Aaof1tBtcp6"
   },
   "source": [
    "---\n",
    "## Discuss creating a recommendation system for student loans"
   ]
  },
  {
   "cell_type": "markdown",
   "metadata": {
    "id": "_CC8cNpNtcp6"
   },
   "source": [
    "Briefly answer the following questions in the space provided:\n",
    "\n",
    "1. Describe the data that you would need to collect to build a recommendation system to recommend student loan options for students. Explain why this data would be relevant and appropriate.\n",
    "\n",
    "2. Based on the data you chose to use in this recommendation system, would your model be using collaborative filtering, content-based filtering, or context-based filtering? Justify why the data you selected would be suitable for your choice of filtering method.\n",
    "\n",
    "3. Describe two real-world challenges that you would take into consideration while building a recommendation system for student loans. Explain why these challenges would be of concern for a student loan recommendation system."
   ]
  },
  {
   "cell_type": "markdown",
   "metadata": {
    "id": "5KqIT8kYtcp6"
   },
   "source": [
    "**1. Describe the data that you would need to collect to build a recommendation system to recommend student loan options for students. Explain why this data would be relevant and appropriate.**\n",
    "\n",
    "**Ans**: Data to Collect for a Student Loan Recommendation System \n",
    "To recommend student loan options, the system would benefit from data points that reflect financial stability, educational background, and personal preferences. Key data includes:  \n",
    "\n",
    "- **Credit Score** – Indicates financial reliability and impacts loan eligibility.  \n",
    "- **Annual Income** – Determines repayment capacity and affects interest rates.  \n",
    "- **Existing Debt** – Provides insight into current financial obligations.  \n",
    "- **Degree Program and Institution** – Some lenders tailor loans based on the student's field of study or school reputation.  \n",
    "- **Desired Loan Amount and Term** – Reflects personal borrowing needs and repayment preferences.  \n",
    "- **Employment Status** – Shows the borrower’s income stability, crucial for assessing risk.  \n",
    "\n",
    "This data is essential for matching applicants with loans that fit their profiles, ensuring more accurate and tailored recommendations.  \n",
    "\n",
    "**2. Based on the data you chose to use in this recommendation system, would your model be using collaborative filtering, content-based filtering, or context-based filtering? Justify why the data you selected would be suitable for your choice of filtering method.**\n",
    "\n",
    "**Ans**: Filtering Method and Justification\n",
    "This system would rely on **content-based filtering**. Each student's profile (credit score, income, debt) is compared to loan products, aligning features between the two. This approach works well since loan products have defined attributes, such as interest rates, loan terms, and eligibility criteria, that can be matched directly to student characteristics. Collaborative filtering, which depends on user interactions and feedback, may not perform as well due to limited interaction data from individual applicants.  \n",
    "\n",
    "**3. Describe two real-world challenges that you would take into consideration while building a recommendation system for student loans. Explain why these challenges would be of concern for a student loan recommendation system.**\n",
    "\n",
    "**Ans**: Real-World Challenges\n",
    "- **Data Accuracy and Completeness** – Applicants may provide incomplete or inaccurate financial information, leading to mismatches in loan recommendations. Ensuring data validation and allowing easy updates is important to maintain relevance.  \n",
    "- **Bias in Loan Recommendations** – If the model heavily favors high-income or low-debt applicants, it could reduce access for students from lower-income backgrounds. Addressing this requires balancing recommendations to offer reasonable options for a range of financial profiles without excluding less privileged applicants. "
   ]
  }
 ],
 "metadata": {
  "colab": {
   "provenance": []
  },
  "kernelspec": {
   "display_name": "Python 3 (ipykernel)",
   "language": "python",
   "name": "python3"
  },
  "language_info": {
   "codemirror_mode": {
    "name": "ipython",
    "version": 3
   },
   "file_extension": ".py",
   "mimetype": "text/x-python",
   "name": "python",
   "nbconvert_exporter": "python",
   "pygments_lexer": "ipython3",
   "version": "3.12.4"
  }
 },
 "nbformat": 4,
 "nbformat_minor": 4
}
